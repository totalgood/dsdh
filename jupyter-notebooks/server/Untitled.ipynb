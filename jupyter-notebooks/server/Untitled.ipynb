{
 "cells": [
  {
   "cell_type": "code",
   "execution_count": null,
   "metadata": {},
   "outputs": [],
   "source": [
    "import pandas as pd"
   ]
  },
  {
   "cell_type": "code",
   "execution_count": null,
   "metadata": {},
   "outputs": [],
   "source": [
    "base_url = 'https://raw.githubusercontent.com/tscoleman/SnowCholera/master/'\n",
    "filenames = 'Snow1855_TableIX.csv\tSnow1855_TableVIII.csv\tSnow1856_TableI.csv\tSnow1856_TableVI.csv' \\\n",
    "            'Snow1855_TableVII.csv\tSnow1855_TableXII.csv\tSnow1856_TableV.csv'\n",
    "dfs = []\n",
    "for name in filenames.split():\n",
    "    pd.read_csv(base_url + name)\n",
    "    "
   ]
  }
 ],
 "metadata": {
  "kernelspec": {
   "display_name": "Python 3",
   "language": "python",
   "name": "python3"
  },
  "language_info": {
   "codemirror_mode": {
    "name": "ipython",
    "version": 3
   },
   "file_extension": ".py",
   "mimetype": "text/x-python",
   "name": "python",
   "nbconvert_exporter": "python",
   "pygments_lexer": "ipython3",
   "version": "3.7.6"
  }
 },
 "nbformat": 4,
 "nbformat_minor": 4
}
