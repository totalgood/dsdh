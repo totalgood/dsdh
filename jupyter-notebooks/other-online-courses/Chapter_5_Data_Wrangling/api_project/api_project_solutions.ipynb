{
 "cells": [
  {
   "cell_type": "markdown",
   "metadata": {},
   "source": [
    "## This notebook provides the solutions to the 7 assigned tasks for the API mini project."
   ]
  },
  {
   "cell_type": "markdown",
   "metadata": {},
   "source": [
    "### Task 1 - Collect the 2017 data for the AFX_X stock from the Frankfurt Stock Exchange\n",
    "\n",
    "This data can be accessed through Quandl.com's API using the `requests` package in Python and inserting the relevant start and end dates into the url as follows:"
   ]
  },
  {
   "cell_type": "code",
   "execution_count": 26,
   "metadata": {},
   "outputs": [],
   "source": [
    "import requests"
   ]
  },
  {
   "cell_type": "code",
   "execution_count": 27,
   "metadata": {},
   "outputs": [],
   "source": [
    "# Collect AFX_X data from 2017\n",
    "r = requests.get('https://www.quandl.com/api/v3/datasets/FSE/AFX_X/data.json?start_date=2017-01-01&end_date=2017-12-31&api_key=INSERT_KEY_HERE')"
   ]
  },
  {
   "cell_type": "markdown",
   "metadata": {},
   "source": [
    "### Task 2 - Convert the JSON Object into a Python dictionary\n",
    "\n",
    "This can be completed using `.json()` from the `requests` package as follows:"
   ]
  },
  {
   "cell_type": "code",
   "execution_count": 28,
   "metadata": {},
   "outputs": [
    {
     "name": "stdout",
     "output_type": "stream",
     "text": [
      "<class 'dict'>\n"
     ]
    }
   ],
   "source": [
    "r_dict = r.json()\n",
    "print(type(r_dict))"
   ]
  },
  {
   "cell_type": "markdown",
   "metadata": {},
   "source": [
    "### Task 3 - Calculate the highest and lowest opening prices for AFX_X in 2017\n",
    "\n",
    "To being this task, we need to explore the `r_dict` key/value structure to better pinpoint the daily opening prices in 2017:"
   ]
  },
  {
   "cell_type": "code",
   "execution_count": 29,
   "metadata": {},
   "outputs": [
    {
     "name": "stdout",
     "output_type": "stream",
     "text": [
      "dict_keys(['dataset_data'])\n"
     ]
    }
   ],
   "source": [
    "print(r_dict.keys())"
   ]
  },
  {
   "cell_type": "code",
   "execution_count": 30,
   "metadata": {},
   "outputs": [
    {
     "name": "stdout",
     "output_type": "stream",
     "text": [
      "dict_keys(['limit', 'transform', 'column_index', 'column_names', 'start_date', 'end_date', 'frequency', 'data', 'collapse', 'order'])\n"
     ]
    }
   ],
   "source": [
    "print(r_dict['dataset_data'].keys())"
   ]
  },
  {
   "cell_type": "markdown",
   "metadata": {},
   "source": [
    "From these keys, it appears that the `'column_names'` and `'data'` values will likely be most helpful in identifying the structure of the relevant data.  Let's explore them in more detail:"
   ]
  },
  {
   "cell_type": "code",
   "execution_count": 31,
   "metadata": {},
   "outputs": [
    {
     "name": "stdout",
     "output_type": "stream",
     "text": [
      "['Date', 'Open', 'High', 'Low', 'Close', 'Change', 'Traded Volume', 'Turnover', 'Last Price of the Day', 'Daily Traded Units', 'Daily Turnover']\n"
     ]
    }
   ],
   "source": [
    "print(r_dict['dataset_data']['column_names'])"
   ]
  },
  {
   "cell_type": "code",
   "execution_count": 32,
   "metadata": {},
   "outputs": [
    {
     "name": "stdout",
     "output_type": "stream",
     "text": [
      "<class 'list'>\n"
     ]
    }
   ],
   "source": [
    "print(type(r_dict['dataset_data']['data']))"
   ]
  },
  {
   "cell_type": "code",
   "execution_count": 33,
   "metadata": {},
   "outputs": [
    {
     "name": "stdout",
     "output_type": "stream",
     "text": [
      "[['2017-12-29', 51.76, 51.94, 51.45, 51.76, None, 34640.0, 1792304.0, None, None, None], ['2017-12-28', 51.65, 51.82, 51.43, 51.6, None, 40660.0, 2099024.0, None, None, None], ['2017-12-27', 51.45, 51.89, 50.76, 51.82, None, 57452.0, 2957018.0, None, None, None], ['2017-12-22', 51.05, 51.5, 50.92, 51.32, None, 71165.0, 3641949.0, None, None, None], ['2017-12-21', 51.16, 51.52, 50.9, 51.4, None, 120649.0, 6179433.0, None, None, None]]\n"
     ]
    }
   ],
   "source": [
    "print(r_dict['dataset_data']['data'][0:5])"
   ]
  },
  {
   "cell_type": "markdown",
   "metadata": {},
   "source": [
    "Based on the above, it looks like the `'column_names'` list provides the relevant description of the corresponding values provided in the `'data'` lists (`'data'` contains nested lists as values in which each nested list provides the `'column_names'` data a particular date in 2017).  Let's extract this data into their own individual variables so that it will be easier to analyze the data for the remaining tasks:"
   ]
  },
  {
   "cell_type": "code",
   "execution_count": 34,
   "metadata": {},
   "outputs": [],
   "source": [
    "r_columns = r_dict['dataset_data']['column_names']\n",
    "r_data = r_dict['dataset_data']['data']\n"
   ]
  },
  {
   "cell_type": "markdown",
   "metadata": {},
   "source": [
    "The second value in `'r_columns'` is `'Open'`, which means that we can isolate that data from the corresponding second values in `'r_data'`.  By storing those value in a separate list variable `r_open_max` and replacing the `None` values with 0, we can use the `max()` function to identify the highest opening price in 2017:"
   ]
  },
  {
   "cell_type": "code",
   "execution_count": 35,
   "metadata": {},
   "outputs": [
    {
     "name": "stdout",
     "output_type": "stream",
     "text": [
      "53.11\n"
     ]
    }
   ],
   "source": [
    "r_open_max = []\n",
    "for day in r_data:\n",
    "    if type(day[1]) == float:\n",
    "        r_open_max.append(day[1])\n",
    "    else:\n",
    "        r_open_max.append(0)\n",
    "print(max(r_open_max))"
   ]
  },
  {
   "cell_type": "markdown",
   "metadata": {},
   "source": [
    "We can use the same methodology for calculating the lowest opening price in 2017 by creating a seperate list variable `r_open_min` and replacing the `None` values with 999 and using the `min()` function:"
   ]
  },
  {
   "cell_type": "code",
   "execution_count": 36,
   "metadata": {},
   "outputs": [
    {
     "name": "stdout",
     "output_type": "stream",
     "text": [
      "34.0\n"
     ]
    }
   ],
   "source": [
    "r_open_min = []\n",
    "for day in r_data:\n",
    "    if type(day[1]) == float:\n",
    "        r_open_min.append(day[1])\n",
    "    else:\n",
    "        r_open_min.append(999)\n",
    "print(min(r_open_min))"
   ]
  },
  {
   "cell_type": "markdown",
   "metadata": {},
   "source": [
    "### Task 4 - Calculate the largest price change in any one day in 2017 (based on High and Low price)\n",
    "\n",
    "We know from the `'column_names'` list that the `'High'` and `'Low'` values are the third and fourth values in the corresponding `'data'` lists for each day.  A simple `for` loop to populate a separate list variable `'r_daily_change'` and using the `max()` function can provide the solution for this task:"
   ]
  },
  {
   "cell_type": "code",
   "execution_count": 37,
   "metadata": {},
   "outputs": [
    {
     "name": "stdout",
     "output_type": "stream",
     "text": [
      "2.8100000000000023\n"
     ]
    }
   ],
   "source": [
    "r_daily_change = []\n",
    "for day in r_data:\n",
    "    r_daily_change.append(day[2] - day[3])\n",
    "print(max(r_daily_change))"
   ]
  },
  {
   "cell_type": "markdown",
   "metadata": {},
   "source": [
    "### Task 5 - Calculate the largest price change in any two days in 2017 (based on Closing price)\n",
    "\n",
    "We know from the `'column_names'` list that the `'Close'` values are the fifth values in the corresponding `'data'` lists for each day.  We can populate a separate list variable `r_close` with those values and then loop through those values to calculate the two-day closing spread `r_twoday_change` and apply the `max()` function to provide the solution for this task:"
   ]
  },
  {
   "cell_type": "code",
   "execution_count": 38,
   "metadata": {},
   "outputs": [
    {
     "data": {
      "text/plain": [
       "255"
      ]
     },
     "execution_count": 38,
     "metadata": {},
     "output_type": "execute_result"
    }
   ],
   "source": [
    "r_close = []\n",
    "for day in r_data:\n",
    "    r_close.append(day[4])\n",
    "len(r_close)"
   ]
  },
  {
   "cell_type": "code",
   "execution_count": 39,
   "metadata": {},
   "outputs": [
    {
     "name": "stdout",
     "output_type": "stream",
     "text": [
      "2.559999999999995\n"
     ]
    }
   ],
   "source": [
    "r_twoday_change = []\n",
    "for i in range(len(r_close)):\n",
    "    if i != 254:\n",
    "        r_twoday_change.append(abs(r_close[i+1] - r_close[i]))\n",
    "    else:\n",
    "        r_twoday_change.append(0)\n",
    "print(max(r_twoday_change))"
   ]
  },
  {
   "cell_type": "markdown",
   "metadata": {},
   "source": [
    "### Task 6 - Calculate the average daily trading volume in 2017\n",
    "\n",
    "We know from the `'column_names'` list that the `'Traded Volume'` values are the seventh values in the corresponding `'data'` lists for each day.  We can populate a separate list variable `r_traded_volume` with those values and apply the `sum()` and `len()` functions to calculate the average:"
   ]
  },
  {
   "cell_type": "code",
   "execution_count": 45,
   "metadata": {},
   "outputs": [
    {
     "name": "stdout",
     "output_type": "stream",
     "text": [
      "89124.33725490196\n"
     ]
    }
   ],
   "source": [
    "r_traded_volume = []\n",
    "for day in r_data:\n",
    "    r_traded_volume.append(day[6])\n",
    "print(sum(r_traded_volume) / len(r_traded_volume))"
   ]
  },
  {
   "cell_type": "markdown",
   "metadata": {},
   "source": [
    "### Task 7 - Calculate the median trading volume during 2017\n",
    "\n",
    "We can use `r_traded_volume` to determine the median trading volume by using `len()`:"
   ]
  },
  {
   "cell_type": "code",
   "execution_count": 46,
   "metadata": {},
   "outputs": [
    {
     "data": {
      "text/plain": [
       "127.5"
      ]
     },
     "execution_count": 46,
     "metadata": {},
     "output_type": "execute_result"
    }
   ],
   "source": [
    "len(r_traded_volume) / 2"
   ]
  },
  {
   "cell_type": "markdown",
   "metadata": {},
   "source": [
    "Because there is an odd number of values in `r_traded_volume`, we must calculate the median by taking the average of the 127th and 128th value after sorting the results using the `sorted()` function:"
   ]
  },
  {
   "cell_type": "code",
   "execution_count": 50,
   "metadata": {},
   "outputs": [
    {
     "data": {
      "text/plain": [
       "75630.5"
      ]
     },
     "execution_count": 50,
     "metadata": {},
     "output_type": "execute_result"
    }
   ],
   "source": [
    "r_traded_volume = sorted(r_traded_volume)\n",
    "(r_traded_volume[126] + r_traded_volume[127]) / 2"
   ]
  },
  {
   "cell_type": "code",
   "execution_count": null,
   "metadata": {},
   "outputs": [],
   "source": []
  }
 ],
 "metadata": {
  "kernelspec": {
   "display_name": "Python 3",
   "language": "python",
   "name": "python3"
  },
  "language_info": {
   "codemirror_mode": {
    "name": "ipython",
    "version": 3
   },
   "file_extension": ".py",
   "mimetype": "text/x-python",
   "name": "python",
   "nbconvert_exporter": "python",
   "pygments_lexer": "ipython3",
   "version": "3.6.8"
  }
 },
 "nbformat": 4,
 "nbformat_minor": 2
}
